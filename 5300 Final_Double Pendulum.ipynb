{
 "cells": [
  {
   "cell_type": "markdown",
   "id": "0d3c5d64",
   "metadata": {},
   "source": [
    "## 5300 Final\n",
    "# Part I: Double Pendulum"
   ]
  },
  {
   "cell_type": "code",
   "execution_count": null,
   "id": "a048ad50",
   "metadata": {},
   "outputs": [],
   "source": []
  }
 ],
 "metadata": {
  "kernelspec": {
   "display_name": "Python 3 (ipykernel)",
   "language": "python",
   "name": "python3"
  },
  "language_info": {
   "codemirror_mode": {
    "name": "ipython",
    "version": 3
   },
   "file_extension": ".py",
   "mimetype": "text/x-python",
   "name": "python",
   "nbconvert_exporter": "python",
   "pygments_lexer": "ipython3",
   "version": "3.9.7"
  }
 },
 "nbformat": 4,
 "nbformat_minor": 5
}
