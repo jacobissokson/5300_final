{
 "cells": [
  {
   "cell_type": "markdown",
   "id": "e58b494c",
   "metadata": {},
   "source": [
    "## 5300 Final: Orbits"
   ]
  },
  {
   "cell_type": "code",
   "execution_count": 58,
   "id": "94e902ad",
   "metadata": {},
   "outputs": [],
   "source": [
    "%matplotlib inline\n",
    "\n",
    "import numpy as np\n",
    "from scipy.integrate import odeint, solve_ivp\n",
    "\n",
    "import matplotlib.pyplot as plt"
   ]
  },
  {
   "cell_type": "code",
   "execution_count": 59,
   "id": "0b1684fb",
   "metadata": {},
   "outputs": [],
   "source": [
    "# Change the common font size\n",
    "font_size = 14\n",
    "plt.rcParams.update({'font.size': font_size})"
   ]
  },
  {
   "cell_type": "code",
   "execution_count": 60,
   "id": "73207817",
   "metadata": {},
   "outputs": [],
   "source": [
    "class GravOrbit():\n",
    "    \"\"\"\n",
    "    This class implements the lagrangian equations and parameters for two objects orbiting under gravitational \n",
    "    attraction.\n",
    "    \n",
    "    Parameters\n",
    "    ----------\n",
    "    G : float\n",
    "        gravitational constant\n",
    "    m1 : float\n",
    "        mass of the first particle\n",
    "    m2 : float\n",
    "        mass of the second particle\n",
    "        \n",
    "    Methods\n",
    "    -------\n",
    "    dy_dt(t, y)\n",
    "        Returns the right side of the differential equation in vector y, \n",
    "        given time t and the corresponding value of y.\n",
    "    \"\"\"\n",
    "    def __init__(self, m1=1., m2=1., G=1.):\n",
    "        self.G = G\n",
    "        self.m1 = m1\n",
    "        self.m2 = m2\n",
    "        \n",
    "    def dz_dt(self, t, z):\n",
    "        \"\"\"\n",
    "        This function returns the right-hand side of the diffeq: \n",
    "        [dz/dt d^2z/dt^2]\n",
    "        \n",
    "        Parameters\n",
    "        ----------\n",
    "        t : float\n",
    "            time \n",
    "        z : float\n",
    "            8-component vector with \n",
    "                z[0] = x_1(t) and z[1] = x_dot_1(t)\n",
    "                z[2] = y_1(t) and z[3] = y_dot_1(t)\n",
    "                z[4] = x_2(t) and z[5] = x_dot_2(t)\n",
    "                z[6] = y_2(t) and z[7] = y_dot_2(t)\n",
    "                \n",
    "        Returns\n",
    "        -------\n",
    "        \n",
    "        \"\"\"\n",
    "        \n",
    "        r_12 = np.sqrt( (z[0] - z[4])**2 + (z[2] - z[6])**2 )\n",
    "        return [ \\\n",
    "                z[1], self.G * self.m2 * (z[4] - z[0]) / r_12**3, \\\n",
    "                z[3], self.G * self.m2 * (z[6] - z[2]) / r_12**3, \\\n",
    "                z[5], -self.G * self.m1 * (z[4] - z[0]) / r_12**3, \\\n",
    "                z[7], -self.G * self.m1 * (z[6] - z[2]) / r_12**3, \\\n",
    "               ]\n",
    "    \n",
    "    \n",
    "    def solve_ode(self, t_pts, z_0, \n",
    "                 abserr=1.0e-8, relerr=1.0e-8):\n",
    "        \"\"\"\n",
    "        Solve the ODE given initial conditions.\n",
    "        Specify smaller abserr and relerr to get more precision.\n",
    "        \"\"\"\n",
    "        solution = solve_ivp(self.dz_dt, (t_pts[0], t_pts[-1]),\n",
    "                             z_0, t_eval=t_pts, method='RK23', \n",
    "                             atol=abserr, rtol=relerr)\n",
    "        x_1, x_dot_1, y_1, y_dot_1, x_2, x_dot_2, y_2, y_dot_2 = solution.y\n",
    "        \n",
    "        return x_1, x_dot_1, y_1, y_dot_1, x_2, x_dot_2, y_2, y_dot_2    "
   ]
  },
  {
   "cell_type": "code",
   "execution_count": 61,
   "id": "1d3156e5",
   "metadata": {},
   "outputs": [],
   "source": [
    "def plot_y_vs_x(x, y, axis_labels=None, label=None, title=None, \n",
    "                color=None, linestyle=None, semilogy=False, loglog=False,\n",
    "                ax=None):\n",
    "    \"\"\"\n",
    "    Generic plotting function: return a figure axis with a plot of y vs. x,\n",
    "    with line color and style, title, axis labels, and line label\n",
    "    \"\"\"\n",
    "    if ax is None:        # if the axis object doesn't exist, make one\n",
    "        ax = plt.gca()\n",
    "\n",
    "    if (semilogy):\n",
    "        line, = ax.semilogy(x, y, label=label, \n",
    "                            color=color, linestyle=linestyle)\n",
    "    elif (loglog):\n",
    "        line, = ax.loglog(x, y, label=label, \n",
    "                          color=color, linestyle=linestyle)\n",
    "    else:\n",
    "        line, = ax.plot(x, y, label=label, \n",
    "                    color=color, linestyle=linestyle)\n",
    "\n",
    "    if label is not None:    # if a label if passed, show the legend\n",
    "        ax.legend()\n",
    "    if title is not None:    # set a title if one if passed\n",
    "        ax.set_title(title)\n",
    "    if axis_labels is not None:  # set x-axis and y-axis labels if passed  \n",
    "        ax.set_xlabel(axis_labels[0])\n",
    "        ax.set_ylabel(axis_labels[1])\n",
    "\n",
    "    return ax, line\n"
   ]
  },
  {
   "cell_type": "code",
   "execution_count": 62,
   "id": "ffceeeab",
   "metadata": {},
   "outputs": [],
   "source": [
    "def start_stop_indices(t_pts, plot_start, plot_stop):\n",
    "    start_index = (np.fabs(t_pts-plot_start)).argmin()  # index in t_pts array \n",
    "    stop_index = (np.fabs(t_pts-plot_stop)).argmin()  # index in t_pts array \n",
    "    return start_index, stop_index"
   ]
  },
  {
   "cell_type": "markdown",
   "id": "919cdbca",
   "metadata": {},
   "source": [
    "## Orbit Plots"
   ]
  },
  {
   "cell_type": "code",
   "execution_count": 63,
   "id": "5d893acd",
   "metadata": {},
   "outputs": [],
   "source": [
    "# Labels for individual plot axes\n",
    "orbit_labels = (r'$x$', r'$y$')\n",
    "\n",
    "# Common plotting time (generate the full time then use slices)\n",
    "t_start = 0.\n",
    "t_end = 10.\n",
    "delta_t = 0.01\n",
    "\n",
    "t_pts = np.arange(t_start, t_end+delta_t, delta_t)  \n",
    "\n",
    "m1 = 1.\n",
    "m2 = 5.\n",
    "G = 1.\n",
    "\n",
    "# Instantiate orbit\n",
    "o1 = GravOrbit(m1, m2, G)"
   ]
  },
  {
   "cell_type": "code",
   "execution_count": 64,
   "id": "664f969c",
   "metadata": {},
   "outputs": [
    {
     "data": {
      "image/png": "[encoded data removed]",
      "text/plain": [
       "<Figure size 360x360 with 1 Axes>"
      ]
     },
     "metadata": {
      "needs_background": "light"
     },
     "output_type": "display_data"
    }
   ],
   "source": [
    "#Initial Conditions with com velocity of zero\n",
    "x_1_0, x_dot_1_0 = 1., -1.\n",
    "y_1_0, y_dot_1_0 = 1., 1.\n",
    "x_2_0, x_dot_2_0 = -(m1/m2) * x_1_0, -(m1/m2) * x_dot_1_0\n",
    "y_2_0, y_dot_2_0 = -(m1/m2) * y_1_0, -(m1/m2) * y_dot_1_0\n",
    "\n",
    "z_0 = [x_1_0, x_dot_1_0, y_1_0, y_dot_1_0, x_2_0, x_dot_2_0, y_2_0, y_dot_2_0]\n",
    "x_1, x_dot_1, y_1, y_dot_1, x_2, x_dot_2, y_2, y_dot_2 = o1.solve_ode(t_pts, z_0)\n",
    "\n",
    "\n",
    "\n",
    "# start the plot!\n",
    "fig = plt.figure(figsize=(5,5))\n",
    "overall_title = 'Simple Gravitational Orbit'\n",
    "fig.suptitle(overall_title, va='baseline')\n",
    "    \n",
    "ax = fig.add_subplot(1,1,1)       \n",
    "\n",
    "start, stop = start_stop_indices(t_pts, t_start, t_end)    \n",
    "ax.plot(x_1, y_1, color='blue', label=r'$m1$')\n",
    "ax.plot(x_2, y_2, color='red', label=r'$m2$')\n",
    "ax.legend()\n",
    "ax.legend(loc='upper right')\n",
    "ax.set_aspect(1)\n",
    "\n",
    "fig.tight_layout()"
   ]
  },
  {
   "cell_type": "markdown",
   "id": "f143633e",
   "metadata": {},
   "source": [
    "## Orbit Plot: m1 >> m2"
   ]
  },
  {
   "cell_type": "code",
   "execution_count": 65,
   "id": "ef4dec77",
   "metadata": {},
   "outputs": [],
   "source": [
    "# Common plotting time (generate the full time then use slices)\n",
    "t_start = 0.\n",
    "t_end = 20.\n",
    "delta_t = 0.00001\n",
    "\n",
    "t_pts = np.arange(t_start, t_end+delta_t, delta_t)  \n",
    "\n",
    "m1 = 20.\n",
    "m2 = 1.\n",
    "G = 20.\n",
    "\n",
    "# Instantiate orbit\n",
    "o2 = GravOrbit(m1, m2, G)"
   ]
  },
  {
   "cell_type": "code",
   "execution_count": 66,
   "id": "156822e4",
   "metadata": {},
   "outputs": [
    {
     "data": {
      "image/png": "[encoded data removed]",
      "text/plain": [
       "<Figure size 360x360 with 1 Axes>"
      ]
     },
     "metadata": {
      "needs_background": "light"
     },
     "output_type": "display_data"
    }
   ],
   "source": [
    "#Initial Conditions with com velocity of zero\n",
    "x_1_0, x_dot_1_0 = 0.1, 0.\n",
    "y_1_0, y_dot_1_0 = 0., 0.75\n",
    "x_2_0, x_dot_2_0 = -(m1/m2) * x_1_0, -(m1/m2) * x_dot_1_0\n",
    "y_2_0, y_dot_2_0 = -(m1/m2) * y_1_0, -(m1/m2) * y_dot_1_0\n",
    "\n",
    "z_0 = [x_1_0, x_dot_1_0, y_1_0, y_dot_1_0, x_2_0, x_dot_2_0, y_2_0, y_dot_2_0]\n",
    "x_1, x_dot_1, y_1, y_dot_1, x_2, x_dot_2, y_2, y_dot_2 = o2.solve_ode(t_pts, z_0)\n",
    "\n",
    "\n",
    "\n",
    "# start the plot!\n",
    "fig = plt.figure(figsize=(5,5))\n",
    "overall_title = 'Simple Gravitational Orbit'\n",
    "fig.suptitle(overall_title, va='baseline')\n",
    "    \n",
    "ax = fig.add_subplot(1,1,1)       \n",
    "\n",
    "start, stop = start_stop_indices(t_pts, t_start, t_end)    \n",
    "ax.plot(x_1, y_1, color='blue', label=r'$m1$')\n",
    "ax.plot(x_2, y_2, color='red', label=r'$m2$')\n",
    "ax.legend()\n",
    "ax.legend(loc='upper right')\n",
    "ax.set_aspect(1)\n",
    "\n",
    "fig.tight_layout()"
   ]
  }
 ],
 "metadata": {
  "kernelspec": {
   "display_name": "Python 3 (ipykernel)",
   "language": "python",
   "name": "python3"
  },
  "language_info": {
   "codemirror_mode": {
    "name": "ipython",
    "version": 3
   },
   "file_extension": ".py",
   "mimetype": "text/x-python",
   "name": "python",
   "nbconvert_exporter": "python",
   "pygments_lexer": "ipython3",
   "version": "3.9.7"
  }
 },
 "nbformat": 4,
 "nbformat_minor": 5
}
